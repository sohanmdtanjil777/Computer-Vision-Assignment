{
  "nbformat": 4,
  "nbformat_minor": 0,
  "metadata": {
    "colab": {
      "name": "mid_project.ipynb",
      "provenance": [],
      "collapsed_sections": []
    },
    "kernelspec": {
      "name": "python3",
      "display_name": "Python 3"
    },
    "language_info": {
      "name": "python"
    }
  },
  "cells": [
    {
      "cell_type": "code",
      "metadata": {
        "id": "3CiC2CIu1OTx"
      },
      "source": [
        "import tensorflow as tf\n",
        "from tensorflow import keras\n",
        "from tensorflow.keras.datasets import mnist\n",
        "\n",
        "import numpy as np\n",
        "import matplotlib.pyplot as plt\n",
        "import random\n"
      ],
      "execution_count": null,
      "outputs": []
    },
    {
      "cell_type": "code",
      "metadata": {
        "id": "6b9a2Lef7Hiu"
      },
      "source": [
        "(x_train, y_train), (x_test, y_test) = keras.datasets.mnist.load_data()"
      ],
      "execution_count": null,
      "outputs": []
    },
    {
      "cell_type": "code",
      "metadata": {
        "colab": {
          "base_uri": "https://localhost:8080/"
        },
        "id": "B33Szt3U7aXl",
        "outputId": "9a0a0205-dd25-4ce6-a5ae-9a88e487f840"
      },
      "source": [
        "print(f\"shape of train images = {x_train.shape}\")\n",
        "print(f\"shape of train labels = {y_train.shape}\")\n",
        "print(f\"shape of test images = {x_test.shape}\")\n",
        "print(f\"shape of test labels = {y_test.shape}\")"
      ],
      "execution_count": null,
      "outputs": [
        {
          "output_type": "stream",
          "name": "stdout",
          "text": [
            "shape of train images = (60000, 28, 28)\n",
            "shape of train labels = (60000,)\n",
            "shape of test images = (10000, 28, 28)\n",
            "shape of test labels = (10000,)\n"
          ]
        }
      ]
    },
    {
      "cell_type": "code",
      "metadata": {
        "colab": {
          "base_uri": "https://localhost:8080/",
          "height": 285
        },
        "id": "OjoLd74M-8NV",
        "outputId": "d2531b38-423d-464c-f266-25939174b905"
      },
      "source": [
        "plt.imshow(x_train[100], cmap=\"gray_r\")\n",
        "plt.title(y_train[100])\n",
        "plt.xticks([])\n",
        "plt.yticks([])\n",
        "plt.show"
      ],
      "execution_count": null,
      "outputs": [
        {
          "output_type": "execute_result",
          "data": {
            "text/plain": [
              "<function matplotlib.pyplot.show>"
            ]
          },
          "metadata": {},
          "execution_count": 23
        },
        {
          "output_type": "display_data",
          "data": {
            "image/png": "[encoded data removed]",
            "text/plain": [
              "<Figure size 432x288 with 1 Axes>"
            ]
          },
          "metadata": {}
        }
      ]
    },
    {
      "cell_type": "code",
      "metadata": {
        "id": "iNFH62vUeqbL"
      },
      "source": [
        "x_train = x_train.astype('float32') / 255\n",
        "x_test = x_test.astype('float32') / 255"
      ],
      "execution_count": null,
      "outputs": []
    },
    {
      "cell_type": "code",
      "metadata": {
        "colab": {
          "base_uri": "https://localhost:8080/"
        },
        "id": "KLIWkwHF8zWi",
        "outputId": "8f1da9ed-c27b-4f52-d405-4de3ab389bc4"
      },
      "source": [
        "model = tf.keras.Sequential([\n",
        "     tf.keras.Input(shape= (28, 28, 1)),\n",
        "     tf.keras.layers.Conv2D(filters=28, kernel_size=(5,5), activation='relu'), \n",
        "     tf.keras.layers.MaxPool2D(pool_size=(2,2)),\n",
        "     tf.keras.layers.Conv2D(filters=56, kernel_size=(3,3), activation='relu'),\n",
        "     tf.keras.layers.MaxPool2D(pool_size=(2,2)),\n",
        "     \n",
        "    \n",
        "     tf.keras.layers.Flatten(),\n",
        "     tf.keras.layers.Dense(64, activation='relu'),\n",
        "     tf.keras.layers.Dense(10, activation='softmax')\n",
        "])\n",
        "model.summary()"
      ],
      "execution_count": null,
      "outputs": [
        {
          "output_type": "stream",
          "name": "stdout",
          "text": [
            "Model: \"sequential\"\n",
            "_________________________________________________________________\n",
            "Layer (type)                 Output Shape              Param #   \n",
            "=================================================================\n",
            "conv2d (Conv2D)              (None, 24, 24, 28)        728       \n",
            "_________________________________________________________________\n",
            "max_pooling2d (MaxPooling2D) (None, 12, 12, 28)        0         \n",
            "_________________________________________________________________\n",
            "conv2d_1 (Conv2D)            (None, 10, 10, 56)        14168     \n",
            "_________________________________________________________________\n",
            "max_pooling2d_1 (MaxPooling2 (None, 5, 5, 56)          0         \n",
            "_________________________________________________________________\n",
            "flatten (Flatten)            (None, 1400)              0         \n",
            "_________________________________________________________________\n",
            "dense (Dense)                (None, 64)                89664     \n",
            "_________________________________________________________________\n",
            "dense_1 (Dense)              (None, 10)                650       \n",
            "=================================================================\n",
            "Total params: 105,210\n",
            "Trainable params: 105,210\n",
            "Non-trainable params: 0\n",
            "_________________________________________________________________\n"
          ]
        }
      ]
    },
    {
      "cell_type": "code",
      "metadata": {
        "id": "TiE4SRemWtAN"
      },
      "source": [
        "x_train = x_train.reshape(-1, 28, 28, 1)\n",
        "model.compile(\n",
        "    #optimizer= tf.keras.optimizers.Adam(),\n",
        "    optimizer= tf.keras.optimizers.SGD(),\n",
        "    #optimizer= tf.keras.optimizers.RMSprop(), \n",
        "    loss= tf.keras.losses.sparse_categorical_crossentropy, \n",
        "    metrics=['accuracy']\n",
        ")"
      ],
      "execution_count": null,
      "outputs": []
    },
    {
      "cell_type": "code",
      "metadata": {
        "colab": {
          "base_uri": "https://localhost:8080/"
        },
        "id": "cBzNzIrG1zdU",
        "outputId": "6dd4a003-4ffa-4746-eb11-d9e3725f021c"
      },
      "source": [
        "model.fit(x=x_train, y=y_train, epochs=12, validation_split=0.2, batch_size=32)"
      ],
      "execution_count": null,
      "outputs": [
        {
          "output_type": "stream",
          "name": "stdout",
          "text": [
            "Epoch 1/12\n",
            "1500/1500 [==============================] - 7s 5ms/step - loss: 8.0994e-04 - accuracy: 0.9997 - val_loss: 0.0115 - val_accuracy: 0.9973\n",
            "Epoch 2/12\n",
            "1500/1500 [==============================] - 7s 5ms/step - loss: 2.4048e-04 - accuracy: 1.0000 - val_loss: 0.0111 - val_accuracy: 0.9973\n",
            "Epoch 3/12\n",
            "1500/1500 [==============================] - 7s 5ms/step - loss: 1.3834e-04 - accuracy: 1.0000 - val_loss: 0.0109 - val_accuracy: 0.9973\n",
            "Epoch 4/12\n",
            "1500/1500 [==============================] - 7s 5ms/step - loss: 1.0804e-04 - accuracy: 1.0000 - val_loss: 0.0108 - val_accuracy: 0.9973\n",
            "Epoch 5/12\n",
            "1500/1500 [==============================] - 7s 5ms/step - loss: 9.2430e-05 - accuracy: 1.0000 - val_loss: 0.0107 - val_accuracy: 0.9973\n",
            "Epoch 6/12\n",
            "1500/1500 [==============================] - 7s 5ms/step - loss: 8.1351e-05 - accuracy: 1.0000 - val_loss: 0.0107 - val_accuracy: 0.9974\n",
            "Epoch 7/12\n",
            "1500/1500 [==============================] - 7s 5ms/step - loss: 7.3533e-05 - accuracy: 1.0000 - val_loss: 0.0106 - val_accuracy: 0.9974\n",
            "Epoch 8/12\n",
            "1500/1500 [==============================] - 7s 5ms/step - loss: 6.7330e-05 - accuracy: 1.0000 - val_loss: 0.0106 - val_accuracy: 0.9975\n",
            "Epoch 9/12\n",
            "1500/1500 [==============================] - 7s 5ms/step - loss: 6.2378e-05 - accuracy: 1.0000 - val_loss: 0.0105 - val_accuracy: 0.9976\n",
            "Epoch 10/12\n",
            "1500/1500 [==============================] - 7s 5ms/step - loss: 5.8215e-05 - accuracy: 1.0000 - val_loss: 0.0105 - val_accuracy: 0.9976\n",
            "Epoch 11/12\n",
            "1500/1500 [==============================] - 7s 5ms/step - loss: 5.4626e-05 - accuracy: 1.0000 - val_loss: 0.0105 - val_accuracy: 0.9976\n",
            "Epoch 12/12\n",
            "1500/1500 [==============================] - 7s 5ms/step - loss: 5.1513e-05 - accuracy: 1.0000 - val_loss: 0.0105 - val_accuracy: 0.9976\n"
          ]
        },
        {
          "output_type": "execute_result",
          "data": {
            "text/plain": [
              "<keras.callbacks.History at 0x7fa0c07378d0>"
            ]
          },
          "metadata": {},
          "execution_count": 15
        }
      ]
    },
    {
      "cell_type": "code",
      "metadata": {
        "colab": {
          "base_uri": "https://localhost:8080/"
        },
        "id": "RZZU7eMJ4aCc",
        "outputId": "3d6d209b-24bd-440f-a37b-a4abbe45d6d6"
      },
      "source": [
        "x_test = x_test.reshape(-1, 28, 28, 1)\n",
        "test_loss, test_accuracy = model.evaluate(x_test, y_test)\n",
        "print('\\nTest Accuracy:', test_accuracy)\n",
        "print('\\nTest Loss:', test_loss)"
      ],
      "execution_count": null,
      "outputs": [
        {
          "output_type": "stream",
          "name": "stdout",
          "text": [
            "313/313 [==============================] - 1s 3ms/step - loss: 0.0469 - accuracy: 0.9928\n",
            "\n",
            "Test Accuracy: 0.9927999973297119\n",
            "\n",
            "Test Loss: 0.04690428823232651\n"
          ]
        }
      ]
    }
  ]
}