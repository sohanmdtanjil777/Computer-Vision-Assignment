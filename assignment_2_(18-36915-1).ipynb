{
  "nbformat": 4,
  "nbformat_minor": 0,
  "metadata": {
    "colab": {
      "name": "assignment_2.ipynb",
      "provenance": [],
      "collapsed_sections": []
    },
    "kernelspec": {
      "name": "python3",
      "display_name": "Python 3"
    },
    "language_info": {
      "name": "python"
    }
  },
  "cells": [
    {
      "cell_type": "code",
      "metadata": {
        "id": "N_ep0A3QUC_7"
      },
      "source": [
        "import tensorflow as tf\n",
        "from tensorflow import keras\n",
        "from tensorflow.keras import layers\n",
        "from tensorflow.keras.datasets import cifar10\n",
        "\n",
        "import numpy as np\n",
        "import matplotlib.pyplot as plt\n",
        "\n",
        "from sklearn.neighbors import DistanceMetric\n",
        "\n",
        "from numpy import array\n",
        "from sklearn.model_selection import KFold\n",
        "from sklearn.neighbors import NearestNeighbors\n",
        "from sklearn.model_selection import cross_val_score\n"
      ],
      "execution_count": 76,
      "outputs": []
    },
    {
      "cell_type": "code",
      "metadata": {
        "id": "t5UkFsa8U8lv"
      },
      "source": [
        "(x_train, y_train), (x_test, y_test) = cifar10.load_data()"
      ],
      "execution_count": 66,
      "outputs": []
    },
    {
      "cell_type": "code",
      "metadata": {
        "colab": {
          "base_uri": "https://localhost:8080/"
        },
        "id": "nR4GOf4aVIED",
        "outputId": "0970aac7-ede6-4d7e-b99c-6436bdca3927"
      },
      "source": [
        "print(f\"shape of train images = {x_train.shape}\")\n",
        "print(f\"shape of train labels = {y_train.shape}\")\n",
        "print(f\"shape of test images = {x_test.shape}\")\n",
        "print(f\"shape of test labels = {y_test.shape}\")"
      ],
      "execution_count": 46,
      "outputs": [
        {
          "output_type": "stream",
          "name": "stdout",
          "text": [
            "shape of train images = (50000, 32, 32, 3)\n",
            "shape of train labels = (50000, 1)\n",
            "shape of test images = (10000, 32, 32, 3)\n",
            "shape of test labels = (10000, 1)\n"
          ]
        }
      ]
    },
    {
      "cell_type": "code",
      "metadata": {
        "id": "xSXv_qebVa4N",
        "colab": {
          "base_uri": "https://localhost:8080/",
          "height": 339
        },
        "outputId": "fab7f2f1-6870-478b-bd9e-133ace498145"
      },
      "source": [
        "plt.imshow(x_train[50])\n",
        "plt.title(y_train[50])\n",
        "plt.xticks([])\n",
        "plt.yticks([])\n",
        "plt.show"
      ],
      "execution_count": 81,
      "outputs": [
        {
          "output_type": "stream",
          "name": "stderr",
          "text": [
            "/usr/local/lib/python3.7/dist-packages/matplotlib/text.py:1165: FutureWarning: elementwise comparison failed; returning scalar instead, but in the future will perform elementwise comparison\n",
            "  if s != self._text:\n"
          ]
        },
        {
          "output_type": "execute_result",
          "data": {
            "text/plain": [
              "<function matplotlib.pyplot.show>"
            ]
          },
          "metadata": {},
          "execution_count": 81
        },
        {
          "output_type": "display_data",
          "data": {
            "image/png": "[encoded data removed]",
            "text/plain": [
              "<Figure size 432x288 with 1 Axes>"
            ]
          },
          "metadata": {}
        }
      ]
    },
    {
      "cell_type": "code",
      "metadata": {
        "id": "CusNooCY9vHS"
      },
      "source": [
        "x_train_new_dim = x_train.reshape(32, 32)"
      ],
      "execution_count": 93,
      "outputs": []
    },
    {
      "cell_type": "code",
      "metadata": {
        "id": "OvNcrfal7s1i"
      },
      "source": [
        "distance_L1 = DistanceMetric.get_metric('euclidean')\n",
        "distance_L1.pairwise(x_train_new_dim)"
      ],
      "execution_count": 93,
      "outputs": []
    },
    {
      "cell_type": "code",
      "metadata": {
        "id": "x6g8qZA3-hCr"
      },
      "source": [
        "distance_L2 = DistanceMetric.get_metric('manhattan')\n",
        "distance_L2.pairwise(x_train_new_dim)"
      ],
      "execution_count": 93,
      "outputs": []
    },
    {
      "cell_type": "code",
      "metadata": {
        "id": "BkKsMxp3l7Cp"
      },
      "source": [
        "kFold = KFold(5, True, 1)\n",
        "#number_of_splits = kFold.split(x_train)\n",
        "#print(number_of_splits)\t"
      ],
      "execution_count": 69,
      "outputs": []
    },
    {
      "cell_type": "code",
      "metadata": {
        "id": "jLzgzEpX5yvy"
      },
      "source": [
        "cv = kFold\n",
        "scores = cross_val_score(NearestNeighbors, x_train, y_train, scoring='accuracy', cv=cv , n_jobs=-1)"
      ],
      "execution_count": null,
      "outputs": []
    }
  ]
}